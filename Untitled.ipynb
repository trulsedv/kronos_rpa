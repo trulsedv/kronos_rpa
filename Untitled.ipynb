{
 "cells": [
  {
   "cell_type": "code",
   "execution_count": 1,
   "metadata": {
    "scrolled": true
   },
   "outputs": [],
   "source": [
    "from selenium import webdriver\n",
    "from selenium.webdriver.common.action_chains import ActionChains\n",
    "\n",
    "driver = webdriver.Chrome() #\"chromedriver.exe\")\n",
    "actions = ActionChains(driver)\n",
    "\n",
    "url = \"https://kronos.rainpower.no/wfc/logon\"\n",
    "driver.get(url)"
   ]
  },
  {
   "cell_type": "code",
   "execution_count": 2,
   "metadata": {},
   "outputs": [],
   "source": [
    "iframe = driver.find_element_by_xpath(\"//iframe[@name='widgetFrame723']\")\n",
    "driver.switch_to.frame(iframe)"
   ]
  },
  {
   "cell_type": "code",
   "execution_count": 57,
   "metadata": {},
   "outputs": [],
   "source": [
    "driver.find_elements_by_xpath('//*[@id=\"row0jqxGrid0\"]/div[7]')[0].click()\n",
    "actions.send_keys('NOR/400748/000T051;Pay OVT Addition')\n",
    "actions.perform()\n",
    "driver.find_elements_by_xpath('//*[@id=\"row0jqxGrid0\"]/div[8]')[0].click()"
   ]
  },
  {
   "cell_type": "code",
   "execution_count": null,
   "metadata": {},
   "outputs": [],
   "source": [
    "driver.close()"
   ]
  },
  {
   "cell_type": "code",
   "execution_count": 59,
   "metadata": {},
   "outputs": [],
   "source": [
    "driver.find_elements_by_xpath('//*[@id=\"row0jqxGrid0\"]/div[1]')[0].click()"
   ]
  },
  {
   "cell_type": "code",
   "execution_count": 21,
   "metadata": {
    "scrolled": true
   },
   "outputs": [
    {
     "name": "stdout",
     "output_type": "stream",
     "text": [
      "----------  -----  -----------------------------------  -----\n",
      "01.03.2022  7:52   NOR/400748/000T001;OVT               10:15\n",
      "            10:15  NOR/400748/000T051;Pay OVT Addition  12:30\n",
      "            12:30  NOR/400748/700101;OVT                16:30\n",
      "            16:30  NOR/400748/000T051;Pay OVT Addition  17:00\n",
      "----------  -----  -----------------------------------  -----\n"
     ]
    }
   ],
   "source": [
    "from tabulate import tabulate\n",
    "\n",
    "table = []\n",
    "for i in range(4):\n",
    "    dato = driver.find_elements_by_xpath('//*[@id=\"column-Date-Row-' + str(i) +'\"]')[0].text\n",
    "    inn = driver.find_elements_by_xpath('//*[@id=\"column-inPunch-Row-' + str(i) +'\"]')[0].text\n",
    "    overforing = driver.find_elements_by_xpath('//*[@id=\"column-transfer-Row-' + str(i) +'\"]')[0].text\n",
    "    ut = driver.find_elements_by_xpath('//*[@id=\"column-outPunch-Row-' + str(i) +'\"]')[0].text\n",
    "    table.append([dato, inn, overforing, ut])\n",
    "print(tabulate(table))"
   ]
  },
  {
   "cell_type": "code",
   "execution_count": 37,
   "metadata": {},
   "outputs": [
    {
     "name": "stdout",
     "output_type": "stream",
     "text": [
      "<span class=\"jqx-grid-left-ellipsis-precontent\"></span>test<span class=\"jqx-grid-left-ellipsis-precontent\"></span>\n"
     ]
    }
   ],
   "source": [
    "test1 = driver.find_elements_by_xpath('/html/body/div[4]/div[5]/div[1]/div/div/div/div/div[4]/div[2]/div/div[1]/div[7]/div/div/span')\n",
    "text = 'test'\n",
    "innerHTML = test1[0].get_attribute('outerHTML') + text + test1[1].get_attribute('outerHTML')\n",
    "\n",
    "print(innerHTML)"
   ]
  },
  {
   "cell_type": "code",
   "execution_count": null,
   "metadata": {},
   "outputs": [],
   "source": [
    "//*[@id=\"row1jqxGrid0\"]/div[6]"
   ]
  }
 ],
 "metadata": {
  "kernelspec": {
   "display_name": "Python 3",
   "language": "python",
   "name": "python3"
  },
  "language_info": {
   "codemirror_mode": {
    "name": "ipython",
    "version": 3
   },
   "file_extension": ".py",
   "mimetype": "text/x-python",
   "name": "python",
   "nbconvert_exporter": "python",
   "pygments_lexer": "ipython3",
   "version": "3.7.3"
  }
 },
 "nbformat": 4,
 "nbformat_minor": 2
}
